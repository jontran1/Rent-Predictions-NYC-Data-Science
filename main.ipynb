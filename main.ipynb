{
 "cells": [
  {
   "cell_type": "code",
   "execution_count": 9,
   "metadata": {},
   "outputs": [],
   "source": [
    "import numpy as np\n",
    "import pandas as pd\n",
    "import matplotlib.pyplot as plt\n",
    "\n",
    "from sklearn.linear_model import LinearRegression\n",
    "from sklearn.metrics import mean_squared_error"
   ]
  },
  {
   "cell_type": "code",
   "execution_count": 45,
   "metadata": {},
   "outputs": [],
   "source": [
    "test1_df = pd.read_csv('SE_rents2018_test1.csv', index_col=0)\n",
    "test2_df = pd.read_csv('SE_rents2018_test2.csv', index_col=0)\n",
    "test3_df = pd.read_csv('SE_rents2018_test3.csv', index_col=0)\n",
    "train_df = pd.read_csv('SE_rents2018_train.csv', index_col=0)\n",
    "\n",
    "# bedrooms, bathrooms, size_sqft, and year_built use for linear model.\n",
    "# borough, neighborhood, has_doorman, and size_sqft for non-linear model. "
   ]
  }
 ],
 "metadata": {
  "kernelspec": {
   "display_name": "Python 3",
   "language": "python",
   "name": "python3"
  },
  "language_info": {
   "codemirror_mode": {
    "name": "ipython",
    "version": 3
   },
   "file_extension": ".py",
   "mimetype": "text/x-python",
   "name": "python",
   "nbconvert_exporter": "python",
   "pygments_lexer": "ipython3",
   "version": "3.7.1"
  }
 },
 "nbformat": 4,
 "nbformat_minor": 2
}
