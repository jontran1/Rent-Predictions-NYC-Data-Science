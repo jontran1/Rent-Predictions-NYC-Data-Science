{
 "cells": [
  {
   "cell_type": "code",
   "execution_count": 64,
   "metadata": {},
   "outputs": [],
   "source": [
    "import numpy as np\n",
    "import pandas as pd\n",
    "import matplotlib.pyplot as plt\n",
    "\n",
    "from sklearn.metrics import mean_squared_error"
   ]
  },
  {
   "cell_type": "code",
   "execution_count": 65,
   "metadata": {},
   "outputs": [],
   "source": [
    "test1_df = pd.read_csv('SE_rents2018_test1.csv', index_col=0)\n",
    "test2_df = pd.read_csv('SE_rents2018_test2.csv', index_col=0)\n",
    "test3_df = pd.read_csv('SE_rents2018_test3.csv', index_col=0)\n",
    "\n",
    "train_df = pd.read_csv('SE_rents2018_train.csv', index_col=0)\n",
    "\n",
    "\n",
    "# bedrooms, bathrooms, size_sqft, and year_built use for linear model.\n",
    "# borough, neighborhood, has_doorman, and size_sqft for non-linear model. "
   ]
  },
  {
   "cell_type": "code",
   "execution_count": 66,
   "metadata": {},
   "outputs": [],
   "source": [
    "from matplotlib.colors import ListedColormap\n",
    "import matplotlib.pyplot as plt\n",
    "\n",
    "def plot_decision_regions(X, y, classifier, test_idx=None,\n",
    "    resolution=0.02):\n",
    "    # setup marker generator and color map\n",
    "    markers = ('s', 'x', 'o', '^', 'v')\n",
    "    colors = ('red', 'blue', 'lightgreen', 'gray', 'cyan')\n",
    "    cmap = ListedColormap(colors[:len(np.unique(y))])\n",
    "    # plot the decision surface\n",
    "    x1_min, x1_max = X[:, 0].min() - 1, X[:, 0].max() + 1\n",
    "    x2_min, x2_max = X[:, 1].min() - 1, X[:, 1].max() + 1\n",
    "    xx1, xx2 = np.meshgrid(np.arange(x1_min, x1_max, resolution),\n",
    "    np.arange(x2_min, x2_max, resolution))\n",
    "    Z = classifier.predict(np.array([xx1.ravel(), xx2.ravel()]).T)\n",
    "    Z = Z.reshape(xx1.shape)\n",
    "    plt.contourf(xx1, xx2, Z, alpha=0.3, cmap=cmap)\n",
    "    plt.xlim(xx1.min(), xx1.max())\n",
    "    plt.ylim(xx2.min(), xx2.max())\n",
    "    for idx, cl in enumerate(np.unique(y)):\n",
    "        plt.scatter(x=X[y == cl, 0], y=X[y == cl, 1],\n",
    "                    alpha=0.8, c=colors[idx],\n",
    "                    marker=markers[idx], label=cl,\n",
    "                    edgecolor='black')\n",
    "        \n",
    "    # highlight test samples\n",
    "    if test_idx:\n",
    "        # plot all samples\n",
    "        X_test, y_test = X[test_idx, :], y[test_idx]\n",
    "        plt.scatter(X_test[:, 0], X_test[:, 1],\n",
    "                    c='', edgecolor='black', alpha=1.0,\n",
    "                    linewidth=1, marker='o',\n",
    "                    s=100, label='test set')\n",
    "\n",
    "\n",
    "\n",
    "from sklearn.linear_model import LinearRegression\n",
    "from sklearn.metrics import mean_squared_error\n",
    "\n",
    "def train_linear_reg_model(X_train, y_train, X_test, y_test):\n",
    "    \"\"\"Trains and test linear regression model and returns mean_squared_error of\n",
    "    y_test and y_predicted. \n",
    "    ----------\n",
    "    X_train : array-like, shape = [n_samples, n_features]\n",
    "        n_samples the number of samples\n",
    "        n_features the number of features for each sample.\n",
    "        \n",
    "    y_train : array-like, shape = [n_samples]\n",
    "        n_sample target values.\n",
    "        \n",
    "    X_test : array-like, shape = [n_samples, n_features]\n",
    "        n_samples the number of samples\n",
    "        n_features the number of features for each sample.\n",
    "        \n",
    "    y_test : array-like, shape = [n_samples]\n",
    "        n_sample target values.\n",
    "        \n",
    "    Return \n",
    "        (float) mean_squared_error of (y_test and y_prediction)\n",
    "\n",
    "    \n",
    "    \"\"\"\n",
    "\n",
    "    lr = LinearRegression()\n",
    "    lr.fit(X_train, y_train)\n",
    "    \n",
    "\n",
    "    \n",
    "    y_prediction = lr.predict(X_test)\n",
    "    \n",
    "    return mean_squared_error(y_test, y_prediction)"
   ]
  },
  {
   "cell_type": "code",
   "execution_count": 67,
   "metadata": {},
   "outputs": [
    {
     "name": "stdout",
     "output_type": "stream",
     "text": [
      "<class 'pandas.core.frame.DataFrame'>\n",
      "Int64Index: 11597 entries, 7236931 to 7422694\n",
      "Data columns (total 5 columns):\n",
      "bedrooms      11597 non-null int64\n",
      "bathrooms     11597 non-null float64\n",
      "size_sqft     11597 non-null float64\n",
      "year_built    11597 non-null float64\n",
      "rent          11597 non-null int64\n",
      "dtypes: float64(3), int64(2)\n",
      "memory usage: 543.6 KB\n"
     ]
    },
    {
     "data": {
      "text/plain": [
       "4206183.777622666"
      ]
     },
     "execution_count": 67,
     "metadata": {},
     "output_type": "execute_result"
    }
   ],
   "source": [
    "columns_needed = ['bedrooms', 'bathrooms', 'size_sqft', 'year_built','rent']\n",
    "linear_reg_train_df = train_df[columns_needed]\n",
    "\n",
    "# There are 11597 non-null entries in year_built out of 12000.\n",
    "# I will drop these null entries. \n",
    "train_dropped_na_df = linear_reg_train_df.dropna(axis=0)\n",
    "train_dropped_na_df.info()\n",
    "\n",
    "# Convert dataframes to numpy array.\n",
    "features = ['bedrooms', 'bathrooms', 'size_sqft', 'year_built']\n",
    "train_dropped_na_arr = train_dropped_na_df[features]\n",
    "train_dropped_na_target_arr = train_dropped_na_df[['rent']]\n",
    "\n",
    "test1_lr_df = test1_df[['bedrooms', 'bathrooms', 'size_sqft', 'year_built','rent']].dropna(axis=0)\n",
    "test1_lr_arr = test1_lr_df[features]\n",
    "test1_lr_target_arr = test1_lr_df[['rent']]\n",
    "\n",
    "train_linear_reg_model(train_dropped_na_arr, train_dropped_na_target_arr,test1_lr_arr,test1_lr_target_arr)\n",
    "\n"
   ]
  },
  {
   "cell_type": "code",
   "execution_count": null,
   "metadata": {},
   "outputs": [],
   "source": []
  }
 ],
 "metadata": {
  "kernelspec": {
   "display_name": "Python 3",
   "language": "python",
   "name": "python3"
  },
  "language_info": {
   "codemirror_mode": {
    "name": "ipython",
    "version": 3
   },
   "file_extension": ".py",
   "mimetype": "text/x-python",
   "name": "python",
   "nbconvert_exporter": "python",
   "pygments_lexer": "ipython3",
   "version": "3.7.3"
  }
 },
 "nbformat": 4,
 "nbformat_minor": 2
}
